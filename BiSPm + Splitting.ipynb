{
 "cells": [
  {
   "cell_type": "code",
   "execution_count": 1,
   "metadata": {},
   "outputs": [],
   "source": [
    "import numpy as np\n",
    "import pandas as pd\n",
    "import scipy.sparse as sps\n",
    "from sklearn.preprocessing import LabelEncoder\n",
    "from sklearn.model_selection import train_test_split\n",
    "\n",
    "import sys\n",
    "sys.path.append(\"/Users/alessiorussointroito/Documents/GitHub/Structural-Perturbation-Method\")\n",
    "\n",
    "#from SPM_fast import SPM\n",
    "from BiSPM import BiSPM\n",
    "\n",
    "import similaripy as sim\n",
    "import math"
   ]
  },
  {
   "cell_type": "code",
   "execution_count": 2,
   "metadata": {},
   "outputs": [],
   "source": [
    "from tqdm.notebook import tqdm"
   ]
  },
  {
   "cell_type": "code",
   "execution_count": 3,
   "metadata": {},
   "outputs": [],
   "source": [
    "np.random.seed(42)"
   ]
  },
  {
   "cell_type": "code",
   "execution_count": 4,
   "metadata": {},
   "outputs": [],
   "source": [
    "df = pd.read_csv(\n",
    "    \"/Users/alessiorussointroito/Downloads/Telegram Desktop/recommender-system-2020-challenge-polimi/data_train.csv\")\n",
    "\n",
    "le = LabelEncoder()\n",
    "df['new_col'] = le.fit_transform(df.col)\n",
    "\n",
    "row_size = len(df.row.unique())\n",
    "col_size = len(le.classes_)"
   ]
  },
  {
   "cell_type": "code",
   "execution_count": 5,
   "metadata": {},
   "outputs": [],
   "source": [
    "group = df.groupby(\"row\")['new_col'].apply(lambda x: list(x))"
   ]
  },
  {
   "cell_type": "code",
   "execution_count": 6,
   "metadata": {},
   "outputs": [],
   "source": [
    "group = group.reset_index()"
   ]
  },
  {
   "cell_type": "code",
   "execution_count": 7,
   "metadata": {},
   "outputs": [],
   "source": [
    "res = []\n",
    "holdout_perc = 0.2\n",
    "for l in group.new_col:\n",
    "    res.append(math.ceil(len(l)*holdout_perc))"
   ]
  },
  {
   "cell_type": "code",
   "execution_count": 8,
   "metadata": {},
   "outputs": [],
   "source": [
    "group['holdout'] = res"
   ]
  },
  {
   "cell_type": "code",
   "execution_count": 9,
   "metadata": {},
   "outputs": [],
   "source": [
    "res = []\n",
    "for l, h in zip(group.new_col, group.holdout):\n",
    "    res.append(np.random.choice(l, h))\n",
    "group['target'] = res"
   ]
  },
  {
   "cell_type": "code",
   "execution_count": 10,
   "metadata": {},
   "outputs": [],
   "source": [
    "target_idx = np.random.choice(group.row.unique(), int(7947*0.2), replace=False)\n",
    "target_idx = np.sort(target_idx)\n",
    "group = group[group.row.isin(target_idx)]"
   ]
  },
  {
   "cell_type": "code",
   "execution_count": 11,
   "metadata": {},
   "outputs": [
    {
     "data": {
      "application/vnd.jupyter.widget-view+json": {
       "model_id": "b74a82fa250a48dfbbf53906b43cb142",
       "version_major": 2,
       "version_minor": 0
      },
      "text/plain": [
       "HBox(children=(FloatProgress(value=1.0, bar_style='info', max=1.0), HTML(value='')))"
      ]
     },
     "metadata": {},
     "output_type": "display_data"
    },
    {
     "name": "stdout",
     "output_type": "stream",
     "text": [
      "\n"
     ]
    }
   ],
   "source": [
    "row = []\n",
    "col = []\n",
    "for r, t in tqdm(zip(group.row, group.target)):\n",
    "    for e in t:\n",
    "        row.append(r)\n",
    "        col.append(e)"
   ]
  },
  {
   "cell_type": "code",
   "execution_count": 12,
   "metadata": {
    "scrolled": true
   },
   "outputs": [
    {
     "data": {
      "text/html": [
       "<div>\n",
       "<style scoped>\n",
       "    .dataframe tbody tr th:only-of-type {\n",
       "        vertical-align: middle;\n",
       "    }\n",
       "\n",
       "    .dataframe tbody tr th {\n",
       "        vertical-align: top;\n",
       "    }\n",
       "\n",
       "    .dataframe thead th {\n",
       "        text-align: right;\n",
       "    }\n",
       "</style>\n",
       "<table border=\"1\" class=\"dataframe\">\n",
       "  <thead>\n",
       "    <tr style=\"text-align: right;\">\n",
       "      <th></th>\n",
       "      <th>user_id</th>\n",
       "      <th>item</th>\n",
       "    </tr>\n",
       "  </thead>\n",
       "  <tbody>\n",
       "    <tr>\n",
       "      <th>0</th>\n",
       "      <td>15</td>\n",
       "      <td>18202</td>\n",
       "    </tr>\n",
       "    <tr>\n",
       "      <th>1</th>\n",
       "      <td>15</td>\n",
       "      <td>19427</td>\n",
       "    </tr>\n",
       "    <tr>\n",
       "      <th>2</th>\n",
       "      <td>15</td>\n",
       "      <td>19427</td>\n",
       "    </tr>\n",
       "    <tr>\n",
       "      <th>3</th>\n",
       "      <td>18</td>\n",
       "      <td>14901</td>\n",
       "    </tr>\n",
       "    <tr>\n",
       "      <th>4</th>\n",
       "      <td>18</td>\n",
       "      <td>21875</td>\n",
       "    </tr>\n",
       "    <tr>\n",
       "      <th>...</th>\n",
       "      <td>...</td>\n",
       "      <td>...</td>\n",
       "    </tr>\n",
       "    <tr>\n",
       "      <th>5101</th>\n",
       "      <td>7932</td>\n",
       "      <td>1501</td>\n",
       "    </tr>\n",
       "    <tr>\n",
       "      <th>5102</th>\n",
       "      <td>7936</td>\n",
       "      <td>24085</td>\n",
       "    </tr>\n",
       "    <tr>\n",
       "      <th>5103</th>\n",
       "      <td>7941</td>\n",
       "      <td>17998</td>\n",
       "    </tr>\n",
       "    <tr>\n",
       "      <th>5104</th>\n",
       "      <td>7941</td>\n",
       "      <td>7136</td>\n",
       "    </tr>\n",
       "    <tr>\n",
       "      <th>5105</th>\n",
       "      <td>7941</td>\n",
       "      <td>21421</td>\n",
       "    </tr>\n",
       "  </tbody>\n",
       "</table>\n",
       "<p>5106 rows × 2 columns</p>\n",
       "</div>"
      ],
      "text/plain": [
       "      user_id   item\n",
       "0          15  18202\n",
       "1          15  19427\n",
       "2          15  19427\n",
       "3          18  14901\n",
       "4          18  21875\n",
       "...       ...    ...\n",
       "5101     7932   1501\n",
       "5102     7936  24085\n",
       "5103     7941  17998\n",
       "5104     7941   7136\n",
       "5105     7941  21421\n",
       "\n",
       "[5106 rows x 2 columns]"
      ]
     },
     "execution_count": 12,
     "metadata": {},
     "output_type": "execute_result"
    }
   ],
   "source": [
    "test_df = pd.DataFrame({\"user_id\":row, \"item\":col})\n",
    "test_df"
   ]
  },
  {
   "cell_type": "markdown",
   "metadata": {},
   "source": [
    "# Matrices Creation"
   ]
  },
  {
   "cell_type": "code",
   "execution_count": 13,
   "metadata": {},
   "outputs": [],
   "source": [
    "urm_test = sps.csr_matrix((np.ones(len(row)), (row, col)), shape=(row_size, col_size))"
   ]
  },
  {
   "cell_type": "code",
   "execution_count": 14,
   "metadata": {},
   "outputs": [],
   "source": [
    "urm_total = sps.csr_matrix((np.ones(df.shape[0]), (df.row, df.new_col)), shape=(row_size, col_size))"
   ]
  },
  {
   "cell_type": "code",
   "execution_count": 15,
   "metadata": {},
   "outputs": [],
   "source": [
    "urm_train = urm_total - urm_test"
   ]
  },
  {
   "cell_type": "markdown",
   "metadata": {},
   "source": [
    "# Model"
   ]
  },
  {
   "cell_type": "code",
   "execution_count": 16,
   "metadata": {},
   "outputs": [],
   "source": [
    "test_indices = group.row.unique()"
   ]
  },
  {
   "cell_type": "code",
   "execution_count": 17,
   "metadata": {},
   "outputs": [
    {
     "data": {
      "text/plain": [
       "(1589,)"
      ]
     },
     "execution_count": 17,
     "metadata": {},
     "output_type": "execute_result"
    }
   ],
   "source": [
    "test_indices.shape"
   ]
  },
  {
   "cell_type": "code",
   "execution_count": 18,
   "metadata": {},
   "outputs": [],
   "source": [
    "n_svs = 100\n",
    "k = 10\n",
    "p = 0.3"
   ]
  },
  {
   "cell_type": "code",
   "execution_count": 19,
   "metadata": {},
   "outputs": [],
   "source": [
    "urm_train = sim.normalization.bm25(urm_train)"
   ]
  },
  {
   "cell_type": "code",
   "execution_count": 20,
   "metadata": {},
   "outputs": [],
   "source": [
    "bspm = BiSPM(urm_train, target=test_indices, n_sv=n_svs, p=p)"
   ]
  },
  {
   "cell_type": "code",
   "execution_count": 21,
   "metadata": {},
   "outputs": [
    {
     "name": "stderr",
     "output_type": "stream",
     "text": [
      "Computing Perturbed B: 100%|██████████| 10/10 [01:38<00:00,  9.83s/it]\n"
     ]
    }
   ],
   "source": [
    "rankings = bspm.k_runs(k=k)"
   ]
  },
  {
   "cell_type": "markdown",
   "metadata": {},
   "source": [
    "# Predictions"
   ]
  },
  {
   "cell_type": "code",
   "execution_count": 22,
   "metadata": {},
   "outputs": [],
   "source": [
    "# Evaluation\n",
    "\n",
    "def precision(is_relevant, relevant_items):\n",
    "    # is_relevant = np.in1d(recommended_items, relevant_items, assume_unique=True)\n",
    "    precision_score = np.sum(is_relevant, dtype=np.float32) / len(is_relevant)\n",
    "    return precision_score\n",
    "\n",
    "\n",
    "def recall(is_relevant, relevant_items):\n",
    "    # is_relevant = np.in1d(recommended_items, relevant_items, assume_unique=True)\n",
    "    recall_score = np.sum(is_relevant, dtype=np.float32) / len(is_relevant)\n",
    "    return recall_score\n",
    "\n",
    "\n",
    "def MAP(is_relevant, relevant_items):\n",
    "    # Cumulative sum: precision at 1, at 2, at 3 ...\n",
    "    p_at_k = is_relevant * np.cumsum(is_relevant, dtype=np.float32) / (1 + np.arange(is_relevant.shape[0]))\n",
    "    map_score = np.sum(p_at_k) / np.min([len(relevant_items), len(is_relevant)])\n",
    "    return map_score"
   ]
  },
  {
   "cell_type": "code",
   "execution_count": 23,
   "metadata": {},
   "outputs": [
    {
     "data": {
      "application/vnd.jupyter.widget-view+json": {
       "model_id": "c854299dbb464e2590efaeec22880a42",
       "version_major": 2,
       "version_minor": 0
      },
      "text/plain": [
       "HBox(children=(FloatProgress(value=0.0, max=1589.0), HTML(value='')))"
      ]
     },
     "metadata": {},
     "output_type": "display_data"
    },
    {
     "name": "stdout",
     "output_type": "stream",
     "text": [
      "\n",
      "SPM n_eigen = 100 , k = 10  \n",
      " Precision = 0.0025173064820641924 \n",
      " Recall = 0.0025173064820641924 \n",
      " MAP = 0.011624062253388872\n"
     ]
    }
   ],
   "source": [
    "n_users = len(test_indices)\n",
    "\n",
    "cumulative_precision = 0.0\n",
    "cumulative_recall = 0.0\n",
    "cumulative_MAP = 0.0\n",
    "num_eval = 0\n",
    "\n",
    "at = 10\n",
    "\n",
    "for i, user_id in enumerate(tqdm(test_indices)):\n",
    "    relevant_items = group[group.row == user_id]\n",
    "    #recommended_items = rankings[user_id].argsort()[::-1][:at]\n",
    "    recommended_items = rankings[i]\n",
    "\n",
    "    # Filter Seen:\n",
    "    # 1. Remove items already seen by the user\n",
    "    seen_indices = sps.find(urm_train[user_id])[1]    # Con [1] Prendiamo solo le colonne d'interesse della matrice di adiacenza\n",
    "    mask = np.zeros(urm_train.shape[1], dtype=bool)\n",
    "    mask[seen_indices] = True\n",
    "    \n",
    "    recommended_items[mask] = -np.inf\n",
    "\n",
    "    # Recommend\n",
    "    recommended_items = recommended_items.argsort()[::-1][:at]\n",
    "\n",
    "    num_eval += 1\n",
    "\n",
    "    is_relevant = np.in1d(recommended_items, relevant_items, assume_unique=True)\n",
    "\n",
    "    cumulative_precision += precision(is_relevant, relevant_items)\n",
    "    cumulative_recall += recall(is_relevant, relevant_items)\n",
    "    cumulative_MAP += MAP(is_relevant, relevant_items)\n",
    "\n",
    "cumulative_precision /= num_eval\n",
    "cumulative_recall /= num_eval\n",
    "cumulative_MAP /= num_eval\n",
    "\n",
    "print(f\"SPM n_eigen = {n_svs} , k = {k}  \\n Precision = {cumulative_precision} \\n Recall = {cumulative_recall} \\n MAP = {cumulative_MAP}\")"
   ]
  },
  {
   "cell_type": "code",
   "execution_count": null,
   "metadata": {},
   "outputs": [],
   "source": []
  }
 ],
 "metadata": {
  "kernelspec": {
   "display_name": "Python 3",
   "language": "python",
   "name": "python3"
  },
  "language_info": {
   "codemirror_mode": {
    "name": "ipython",
    "version": 3
   },
   "file_extension": ".py",
   "mimetype": "text/x-python",
   "name": "python",
   "nbconvert_exporter": "python",
   "pygments_lexer": "ipython3",
   "version": "3.7.9"
  }
 },
 "nbformat": 4,
 "nbformat_minor": 2
}
