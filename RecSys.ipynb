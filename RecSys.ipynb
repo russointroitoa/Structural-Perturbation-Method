{
 "cells": [
  {
   "cell_type": "code",
   "execution_count": 1,
   "metadata": {},
   "outputs": [],
   "source": [
    "import numpy as np\n",
    "import pandas as pd\n",
    "import scipy.sparse as sps\n",
    "from sklearn.preprocessing import LabelEncoder\n",
    "from sklearn.model_selection import train_test_split\n",
    "from tqdm import tqdm\n",
    "\n",
    "import sys\n",
    "sys.path.append(\"/Users/alessiorussointroito/Documents/GitHub/Structural-Perturbation-Method\")\n",
    "\n",
    "#from SPM_fast import SPM\n",
    "from SPM_cython import SPM"
   ]
  },
  {
   "cell_type": "code",
   "execution_count": 2,
   "metadata": {},
   "outputs": [],
   "source": [
    "n_eigen = 10\n",
    "k = 10"
   ]
  },
  {
   "cell_type": "code",
   "execution_count": 3,
   "metadata": {},
   "outputs": [],
   "source": [
    "df = pd.read_csv(\n",
    "    \"/Users/alessiorussointroito/Downloads/Telegram Desktop/recommender-system-2020-challenge-polimi/data_train.csv\")\n",
    "\n",
    "le = LabelEncoder()\n",
    "df['new_col'] = le.fit_transform(df.col)\n",
    "\n",
    "row_size = len(df.row.unique())\n",
    "col_size = len(le.classes_)\n",
    "N_nodes = row_size + col_size\n",
    "\n",
    "# Data Preprocessing\n",
    "\"\"\"\n",
    "Siccome un tipico problema di recsys è rappresentabile con una rete bipartita, dove in un set ci sono gli user e \n",
    "dall' altro gli items, in questa rete dobbiamo distinguere tutti i nodi. Di conseguenza supponiamo che gli items  \n",
    "rappresentino i nodi che vanno da 0 a 25974, gli user invece vanno da 24895 a 24896 + |users|\n",
    "\"\"\"\n",
    "\n",
    "df['row'] = df.row + col_size\n",
    "\n",
    "# Train test split\n",
    "X_train, X_test, y_train, y_test = train_test_split(df.row, df.new_col, test_size=0.20, random_state=3)\n",
    "\n",
    "# Make the urm symmetric, creating 2 urm and summing them. The two matrices represent upper triangle and down triangle\n",
    "adj_down = sps.csr_matrix((np.ones(X_train.shape[0]), (X_train, y_train)), shape=(N_nodes, N_nodes))\n",
    "adj_up = sps.csr_matrix((np.ones(X_train.shape[0]), (y_train, X_train)), shape=(N_nodes, N_nodes))\n",
    "adj = adj_up + adj_down\n",
    "\n",
    "test_indices = X_test.unique()\n",
    "test_indices = np.sort(test_indices)\n",
    "test = pd.DataFrame({'row': X_test, 'target': y_test})\n",
    "\n",
    "targets = test.groupby(test.row)['target'].apply(lambda x: list(x))"
   ]
  },
  {
   "cell_type": "code",
   "execution_count": 17,
   "metadata": {},
   "outputs": [
    {
     "name": "stderr",
     "output_type": "stream",
     "text": [
      "Remove seen : 100%|██████████| 10/10 [00:51<00:00,  5.16s/it]             \n"
     ]
    }
   ],
   "source": [
    "spm = SPM(adj, target=test_indices , p=0.2, n_eigen=n_eigen)\n",
    "rankings = spm.k_runs(k=k)"
   ]
  },
  {
   "cell_type": "code",
   "execution_count": 18,
   "metadata": {},
   "outputs": [
    {
     "data": {
      "text/plain": [
       "array([[ 6.56810030e-06,  1.42812142e-06,  2.91429428e-06, ...,\n",
       "         4.54747351e-14, -5.68434189e-15, -2.22044605e-17],\n",
       "       [ 6.82254693e-04,  3.41276879e-04,  1.93306171e-04, ...,\n",
       "         9.82254278e-12,  9.09494702e-13, -3.80584453e-14],\n",
       "       [ 2.05204812e-20,  4.70109245e-21,  1.43405104e-21, ...,\n",
       "        -3.86139890e-20, -1.21691996e-20, -2.95082793e-24],\n",
       "       ...,\n",
       "       [ 8.21282345e-04, -1.10738382e-04,  5.33849263e-04, ...,\n",
       "         0.00000000e+00, -3.63797881e-13, -1.42108547e-15],\n",
       "       [ 1.08792197e-04,  4.99401695e-05,  3.96144543e-05, ...,\n",
       "        -1.45519152e-12, -4.77484718e-13,  4.88498131e-15],\n",
       "       [ 8.36585734e-04,  2.31056155e-04,  3.40714787e-04, ...,\n",
       "                   -inf, -6.36646291e-13,  7.10542736e-15]])"
      ]
     },
     "execution_count": 18,
     "metadata": {},
     "output_type": "execute_result"
    }
   ],
   "source": [
    "rankings"
   ]
  },
  {
   "cell_type": "code",
   "execution_count": null,
   "metadata": {},
   "outputs": [],
   "source": []
  },
  {
   "cell_type": "code",
   "execution_count": 19,
   "metadata": {},
   "outputs": [],
   "source": [
    "# Evaluation\n",
    "\n",
    "def precision(is_relevant, relevant_items):\n",
    "    # is_relevant = np.in1d(recommended_items, relevant_items, assume_unique=True)\n",
    "    precision_score = np.sum(is_relevant, dtype=np.float32) / len(is_relevant)\n",
    "    return precision_score\n",
    "\n",
    "\n",
    "def recall(is_relevant, relevant_items):\n",
    "    # is_relevant = np.in1d(recommended_items, relevant_items, assume_unique=True)\n",
    "    recall_score = np.sum(is_relevant, dtype=np.float32) / len(is_relevant)\n",
    "    return recall_score\n",
    "\n",
    "\n",
    "def MAP(is_relevant, relevant_items):\n",
    "    # Cumulative sum: precision at 1, at 2, at 3 ...\n",
    "    p_at_k = is_relevant * np.cumsum(is_relevant, dtype=np.float32) / (1 + np.arange(is_relevant.shape[0]))\n",
    "    map_score = np.sum(p_at_k) / np.min([len(relevant_items), len(is_relevant)])\n",
    "    return map_score\n"
   ]
  },
  {
   "cell_type": "code",
   "execution_count": 20,
   "metadata": {},
   "outputs": [
    {
     "name": "stderr",
     "output_type": "stream",
     "text": [
      "100%|██████████| 5644/5644 [00:16<00:00, 347.27it/s]"
     ]
    },
    {
     "name": "stdout",
     "output_type": "stream",
     "text": [
      "SPM n_eigen = 10 , k = 10  \n",
      " Precision = 0.009231041814316152 \n",
      " Recall = 0.009231041814316152 \n",
      " MAP = 0.011258762792265505\n"
     ]
    },
    {
     "name": "stderr",
     "output_type": "stream",
     "text": [
      "\n"
     ]
    }
   ],
   "source": [
    "n_users = len(test_indices)\n",
    "\n",
    "cumulative_precision = 0.0\n",
    "cumulative_recall = 0.0\n",
    "cumulative_MAP = 0.0\n",
    "num_eval = 0\n",
    "\n",
    "at = 10\n",
    "\n",
    "for i, user_id in enumerate(tqdm(test_indices)):\n",
    "    relevant_items = targets[user_id]\n",
    "    #recommended_items = rankings[user_id].argsort()[::-1][:at]\n",
    "    recommended_items = rankings[i]\n",
    "\n",
    "    # Filter Seen:\n",
    "    # 1. Remove items already seen by the user\n",
    "    seen_indices = sps.find(adj[user_id])[1]    # Con [1] Prendiamo solo le colonne d'interesse della matrice di adiacenza\n",
    "    mask = np.zeros(N_nodes, dtype=bool)\n",
    "    mask[seen_indices] = True\n",
    "\n",
    "    # 2. Remove the other users since we want to recommend only the items for each user\n",
    "    mask[col_size:] = True\n",
    "\n",
    "    recommended_items[mask] = -np.inf\n",
    "\n",
    "    # Recommend\n",
    "    recommended_items = recommended_items.argsort()[::-1][:at]\n",
    "\n",
    "    num_eval += 1\n",
    "\n",
    "    is_relevant = np.in1d(recommended_items, relevant_items, assume_unique=True)\n",
    "\n",
    "    cumulative_precision += precision(is_relevant, relevant_items)\n",
    "    cumulative_recall += recall(is_relevant, relevant_items)\n",
    "    cumulative_MAP += MAP(is_relevant, relevant_items)\n",
    "\n",
    "cumulative_precision /= num_eval\n",
    "cumulative_recall /= num_eval\n",
    "cumulative_MAP /= num_eval\n",
    "\n",
    "print(f\"SPM n_eigen = {n_eigen} , k = {k}  \\n Precision = {cumulative_precision} \\n Recall = {cumulative_recall} \\n MAP = {cumulative_MAP}\")"
   ]
  },
  {
   "cell_type": "code",
   "execution_count": null,
   "metadata": {},
   "outputs": [],
   "source": [
    "SPM n_eigen = 10 , k = 10  \n",
    "Precision = 0.009231041814316152 \n",
    "Recall = 0.009231041814316152 \n",
    "MAP = 0.011258762792265505"
   ]
  },
  {
   "cell_type": "code",
   "execution_count": null,
   "metadata": {},
   "outputs": [],
   "source": []
  },
  {
   "cell_type": "code",
   "execution_count": 14,
   "metadata": {},
   "outputs": [
    {
     "name": "stderr",
     "output_type": "stream",
     "text": [
      "100%|██████████| 5655/5655 [00:02<00:00, 2604.83it/s]\n"
     ]
    }
   ],
   "source": [
    "for i, user_id in enumerate(tqdm(test_indices)):    \n",
    "    seen_indices = sps.find(adj[user_id])[1]    # Con [1] Prendiamo solo le colonne d'interesse della matrice di adiacenza\n",
    "    mask = np.zeros(N_nodes, dtype=bool)\n",
    "    mask[seen_indices] = True\n",
    "\n",
    "    # 2. Remove the other users since we want to recommend only the items for each user\n",
    "    mask[col_size:] = True\n",
    "    rankings[i][mask] = -np.inf"
   ]
  },
  {
   "cell_type": "code",
   "execution_count": 23,
   "metadata": {},
   "outputs": [
    {
     "name": "stdout",
     "output_type": "stream",
     "text": [
      "[      -inf       -inf       -inf ... 0.0006275  0.00077501 0.00135185]\n",
      "[32842 28812 28811 ... 24605 24347 23063]\n"
     ]
    }
   ],
   "source": [
    "print(np.sort(rankings[1]))\n",
    "print(rankings[1].argsort())"
   ]
  },
  {
   "cell_type": "code",
   "execution_count": null,
   "metadata": {},
   "outputs": [],
   "source": []
  },
  {
   "cell_type": "code",
   "execution_count": 4,
   "metadata": {},
   "outputs": [
    {
     "data": {
      "text/plain": [
       "<32843x32843 sparse matrix of type '<class 'numpy.float64'>'\n",
       "\twith 181228 stored elements in Compressed Sparse Row format>"
      ]
     },
     "execution_count": 4,
     "metadata": {},
     "output_type": "execute_result"
    }
   ],
   "source": [
    "adj"
   ]
  },
  {
   "cell_type": "code",
   "execution_count": 5,
   "metadata": {},
   "outputs": [
    {
     "data": {
      "text/plain": [
       "181228"
      ]
     },
     "execution_count": 5,
     "metadata": {},
     "output_type": "execute_result"
    }
   ],
   "source": [
    "adj.nnz"
   ]
  },
  {
   "cell_type": "code",
   "execution_count": null,
   "metadata": {},
   "outputs": [],
   "source": []
  }
 ],
 "metadata": {
  "kernelspec": {
   "display_name": "Python 3",
   "language": "python",
   "name": "python3"
  },
  "language_info": {
   "codemirror_mode": {
    "name": "ipython",
    "version": 3
   },
   "file_extension": ".py",
   "mimetype": "text/x-python",
   "name": "python",
   "nbconvert_exporter": "python",
   "pygments_lexer": "ipython3",
   "version": "3.7.9"
  }
 },
 "nbformat": 4,
 "nbformat_minor": 2
}
