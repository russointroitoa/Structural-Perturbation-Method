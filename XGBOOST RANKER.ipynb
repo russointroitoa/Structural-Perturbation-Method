{
 "cells": [
  {
   "cell_type": "code",
   "execution_count": 1,
   "metadata": {},
   "outputs": [],
   "source": [
    "import numpy as np\n",
    "import pandas as pd\n",
    "import scipy.sparse as sps\n",
    "from sklearn.preprocessing import LabelEncoder\n",
    "from sklearn.model_selection import train_test_split\n",
    "from tqdm import tqdm\n",
    "\n",
    "import sys\n",
    "sys.path.append(\"/Users/alessiorussointroito/Documents/GitHub/Structural-Perturbation-Method\")\n",
    "\n",
    "#from SPM_fast import SPM\n",
    "from BiSPM import BiSPM\n",
    "\n",
    "import similaripy as sim"
   ]
  },
  {
   "cell_type": "code",
   "execution_count": 26,
   "metadata": {},
   "outputs": [],
   "source": [
    "import math"
   ]
  },
  {
   "cell_type": "code",
   "execution_count": 23,
   "metadata": {},
   "outputs": [],
   "source": [
    "np.random.seed(42)"
   ]
  },
  {
   "cell_type": "code",
   "execution_count": 2,
   "metadata": {},
   "outputs": [],
   "source": [
    "df = pd.read_csv(\n",
    "    \"/Users/alessiorussointroito/Downloads/Telegram Desktop/recommender-system-2020-challenge-polimi/data_train.csv\")\n",
    "\n",
    "le = LabelEncoder()\n",
    "df['new_col'] = le.fit_transform(df.col)\n",
    "\n",
    "row_size = len(df.row.unique())\n",
    "col_size = len(le.classes_)"
   ]
  },
  {
   "cell_type": "code",
   "execution_count": 8,
   "metadata": {},
   "outputs": [],
   "source": [
    "df = df[[\"row\", \"new_col\", \"data\"]].rename(columns={\"row\":\"user_id\", \"new_col\":\"item_id\"})"
   ]
  },
  {
   "cell_type": "code",
   "execution_count": 9,
   "metadata": {
    "scrolled": true
   },
   "outputs": [
    {
     "data": {
      "text/html": [
       "<div>\n",
       "<style scoped>\n",
       "    .dataframe tbody tr th:only-of-type {\n",
       "        vertical-align: middle;\n",
       "    }\n",
       "\n",
       "    .dataframe tbody tr th {\n",
       "        vertical-align: top;\n",
       "    }\n",
       "\n",
       "    .dataframe thead th {\n",
       "        text-align: right;\n",
       "    }\n",
       "</style>\n",
       "<table border=\"1\" class=\"dataframe\">\n",
       "  <thead>\n",
       "    <tr style=\"text-align: right;\">\n",
       "      <th></th>\n",
       "      <th>user_id</th>\n",
       "      <th>item_id</th>\n",
       "      <th>data</th>\n",
       "    </tr>\n",
       "  </thead>\n",
       "  <tbody>\n",
       "    <tr>\n",
       "      <th>0</th>\n",
       "      <td>0</td>\n",
       "      <td>9654</td>\n",
       "      <td>1.0</td>\n",
       "    </tr>\n",
       "    <tr>\n",
       "      <th>1</th>\n",
       "      <td>0</td>\n",
       "      <td>18640</td>\n",
       "      <td>1.0</td>\n",
       "    </tr>\n",
       "    <tr>\n",
       "      <th>2</th>\n",
       "      <td>1</td>\n",
       "      <td>2567</td>\n",
       "      <td>1.0</td>\n",
       "    </tr>\n",
       "    <tr>\n",
       "      <th>3</th>\n",
       "      <td>1</td>\n",
       "      <td>7181</td>\n",
       "      <td>1.0</td>\n",
       "    </tr>\n",
       "    <tr>\n",
       "      <th>4</th>\n",
       "      <td>1</td>\n",
       "      <td>16334</td>\n",
       "      <td>1.0</td>\n",
       "    </tr>\n",
       "    <tr>\n",
       "      <th>...</th>\n",
       "      <td>...</td>\n",
       "      <td>...</td>\n",
       "      <td>...</td>\n",
       "    </tr>\n",
       "    <tr>\n",
       "      <th>113263</th>\n",
       "      <td>7945</td>\n",
       "      <td>2385</td>\n",
       "      <td>1.0</td>\n",
       "    </tr>\n",
       "    <tr>\n",
       "      <th>113264</th>\n",
       "      <td>7945</td>\n",
       "      <td>11793</td>\n",
       "      <td>1.0</td>\n",
       "    </tr>\n",
       "    <tr>\n",
       "      <th>113265</th>\n",
       "      <td>7945</td>\n",
       "      <td>20490</td>\n",
       "      <td>1.0</td>\n",
       "    </tr>\n",
       "    <tr>\n",
       "      <th>113266</th>\n",
       "      <td>7946</td>\n",
       "      <td>8329</td>\n",
       "      <td>1.0</td>\n",
       "    </tr>\n",
       "    <tr>\n",
       "      <th>113267</th>\n",
       "      <td>7946</td>\n",
       "      <td>18369</td>\n",
       "      <td>1.0</td>\n",
       "    </tr>\n",
       "  </tbody>\n",
       "</table>\n",
       "<p>113268 rows × 3 columns</p>\n",
       "</div>"
      ],
      "text/plain": [
       "        user_id  item_id  data\n",
       "0             0     9654   1.0\n",
       "1             0    18640   1.0\n",
       "2             1     2567   1.0\n",
       "3             1     7181   1.0\n",
       "4             1    16334   1.0\n",
       "...         ...      ...   ...\n",
       "113263     7945     2385   1.0\n",
       "113264     7945    11793   1.0\n",
       "113265     7945    20490   1.0\n",
       "113266     7946     8329   1.0\n",
       "113267     7946    18369   1.0\n",
       "\n",
       "[113268 rows x 3 columns]"
      ]
     },
     "execution_count": 9,
     "metadata": {},
     "output_type": "execute_result"
    }
   ],
   "source": [
    "df"
   ]
  },
  {
   "cell_type": "markdown",
   "metadata": {},
   "source": [
    "# Cross validation"
   ]
  },
  {
   "cell_type": "code",
   "execution_count": 10,
   "metadata": {},
   "outputs": [],
   "source": [
    "group = df.groupby(\"user_id\")['item_id'].apply(lambda x: list(x)).reset_index()"
   ]
  },
  {
   "cell_type": "code",
   "execution_count": 16,
   "metadata": {},
   "outputs": [],
   "source": [
    "n_users = group.user_id.shape[0]\n",
    "users_per_fold = int(n_users / 5)"
   ]
  },
  {
   "cell_type": "code",
   "execution_count": 27,
   "metadata": {},
   "outputs": [],
   "source": [
    "hold_perc = []\n",
    "holdout_perc = 0.2\n",
    "for l in group.item_id:\n",
    "    hold_perc.append(math.ceil(len(l)*holdout_perc))\n",
    "group['holdout'] = hold_perc"
   ]
  },
  {
   "cell_type": "code",
   "execution_count": 28,
   "metadata": {},
   "outputs": [],
   "source": [
    "res = []\n",
    "for l, h in zip(group.item_id, group.holdout):\n",
    "    res.append(np.random.choice(l, h))\n",
    "group['target'] = res"
   ]
  },
  {
   "cell_type": "code",
   "execution_count": 30,
   "metadata": {},
   "outputs": [
    {
     "data": {
      "text/html": [
       "<div>\n",
       "<style scoped>\n",
       "    .dataframe tbody tr th:only-of-type {\n",
       "        vertical-align: middle;\n",
       "    }\n",
       "\n",
       "    .dataframe tbody tr th {\n",
       "        vertical-align: top;\n",
       "    }\n",
       "\n",
       "    .dataframe thead th {\n",
       "        text-align: right;\n",
       "    }\n",
       "</style>\n",
       "<table border=\"1\" class=\"dataframe\">\n",
       "  <thead>\n",
       "    <tr style=\"text-align: right;\">\n",
       "      <th></th>\n",
       "      <th>user_id</th>\n",
       "      <th>item_id</th>\n",
       "      <th>holdout</th>\n",
       "      <th>target</th>\n",
       "    </tr>\n",
       "  </thead>\n",
       "  <tbody>\n",
       "    <tr>\n",
       "      <th>0</th>\n",
       "      <td>0</td>\n",
       "      <td>[9654, 18640]</td>\n",
       "      <td>1</td>\n",
       "      <td>[9654]</td>\n",
       "    </tr>\n",
       "    <tr>\n",
       "      <th>1</th>\n",
       "      <td>1</td>\n",
       "      <td>[2567, 7181, 16334, 16964, 17359, 19300]</td>\n",
       "      <td>2</td>\n",
       "      <td>[16964, 17359]</td>\n",
       "    </tr>\n",
       "    <tr>\n",
       "      <th>2</th>\n",
       "      <td>2</td>\n",
       "      <td>[18516, 20297]</td>\n",
       "      <td>1</td>\n",
       "      <td>[18516]</td>\n",
       "    </tr>\n",
       "    <tr>\n",
       "      <th>3</th>\n",
       "      <td>3</td>\n",
       "      <td>[17942, 22073]</td>\n",
       "      <td>1</td>\n",
       "      <td>[17942]</td>\n",
       "    </tr>\n",
       "    <tr>\n",
       "      <th>4</th>\n",
       "      <td>4</td>\n",
       "      <td>[462, 6641, 9775, 13123, 18194, 18999, 19012]</td>\n",
       "      <td>2</td>\n",
       "      <td>[18194, 18194]</td>\n",
       "    </tr>\n",
       "    <tr>\n",
       "      <th>...</th>\n",
       "      <td>...</td>\n",
       "      <td>...</td>\n",
       "      <td>...</td>\n",
       "      <td>...</td>\n",
       "    </tr>\n",
       "    <tr>\n",
       "      <th>7942</th>\n",
       "      <td>7942</td>\n",
       "      <td>[7505, 19278, 20756, 21344, 23382]</td>\n",
       "      <td>1</td>\n",
       "      <td>[20756]</td>\n",
       "    </tr>\n",
       "    <tr>\n",
       "      <th>7943</th>\n",
       "      <td>7943</td>\n",
       "      <td>[7554, 7559, 11255]</td>\n",
       "      <td>1</td>\n",
       "      <td>[11255]</td>\n",
       "    </tr>\n",
       "    <tr>\n",
       "      <th>7944</th>\n",
       "      <td>7944</td>\n",
       "      <td>[176, 252, 258, 372, 402, 413, 996, 1189, 1462...</td>\n",
       "      <td>32</td>\n",
       "      <td>[11990, 4843, 258, 12486, 8404, 11478, 19010, ...</td>\n",
       "    </tr>\n",
       "    <tr>\n",
       "      <th>7945</th>\n",
       "      <td>7945</td>\n",
       "      <td>[791, 2385, 11793, 20490]</td>\n",
       "      <td>1</td>\n",
       "      <td>[20490]</td>\n",
       "    </tr>\n",
       "    <tr>\n",
       "      <th>7946</th>\n",
       "      <td>7946</td>\n",
       "      <td>[8329, 18369]</td>\n",
       "      <td>1</td>\n",
       "      <td>[18369]</td>\n",
       "    </tr>\n",
       "  </tbody>\n",
       "</table>\n",
       "<p>7947 rows × 4 columns</p>\n",
       "</div>"
      ],
      "text/plain": [
       "      user_id                                            item_id  holdout  \\\n",
       "0           0                                      [9654, 18640]        1   \n",
       "1           1           [2567, 7181, 16334, 16964, 17359, 19300]        2   \n",
       "2           2                                     [18516, 20297]        1   \n",
       "3           3                                     [17942, 22073]        1   \n",
       "4           4      [462, 6641, 9775, 13123, 18194, 18999, 19012]        2   \n",
       "...       ...                                                ...      ...   \n",
       "7942     7942                 [7505, 19278, 20756, 21344, 23382]        1   \n",
       "7943     7943                                [7554, 7559, 11255]        1   \n",
       "7944     7944  [176, 252, 258, 372, 402, 413, 996, 1189, 1462...       32   \n",
       "7945     7945                          [791, 2385, 11793, 20490]        1   \n",
       "7946     7946                                      [8329, 18369]        1   \n",
       "\n",
       "                                                 target  \n",
       "0                                                [9654]  \n",
       "1                                        [16964, 17359]  \n",
       "2                                               [18516]  \n",
       "3                                               [17942]  \n",
       "4                                        [18194, 18194]  \n",
       "...                                                 ...  \n",
       "7942                                            [20756]  \n",
       "7943                                            [11255]  \n",
       "7944  [11990, 4843, 258, 12486, 8404, 11478, 19010, ...  \n",
       "7945                                            [20490]  \n",
       "7946                                            [18369]  \n",
       "\n",
       "[7947 rows x 4 columns]"
      ]
     },
     "execution_count": 30,
     "metadata": {},
     "output_type": "execute_result"
    }
   ],
   "source": [
    "group"
   ]
  },
  {
   "cell_type": "code",
   "execution_count": 36,
   "metadata": {},
   "outputs": [],
   "source": [
    "fold1, fold2, fold3, fold4, fold5 = group.iloc[:users_per_fold, :], \\\n",
    "                                    group.iloc[users_per_fold:(users_per_fold*2), :],\\\n",
    "                                    group.iloc[(users_per_fold*2):(users_per_fold*3), :],\\\n",
    "                                    group.iloc[(users_per_fold*3):(users_per_fold*4), :],\\\n",
    "                                    group.iloc[(users_per_fold*4):, :]"
   ]
  },
  {
   "cell_type": "code",
   "execution_count": 34,
   "metadata": {},
   "outputs": [
    {
     "data": {
      "text/html": [
       "<div>\n",
       "<style scoped>\n",
       "    .dataframe tbody tr th:only-of-type {\n",
       "        vertical-align: middle;\n",
       "    }\n",
       "\n",
       "    .dataframe tbody tr th {\n",
       "        vertical-align: top;\n",
       "    }\n",
       "\n",
       "    .dataframe thead th {\n",
       "        text-align: right;\n",
       "    }\n",
       "</style>\n",
       "<table border=\"1\" class=\"dataframe\">\n",
       "  <thead>\n",
       "    <tr style=\"text-align: right;\">\n",
       "      <th></th>\n",
       "      <th>user_id</th>\n",
       "      <th>item_id</th>\n",
       "      <th>holdout</th>\n",
       "      <th>target</th>\n",
       "    </tr>\n",
       "  </thead>\n",
       "  <tbody>\n",
       "    <tr>\n",
       "      <th>0</th>\n",
       "      <td>0</td>\n",
       "      <td>[9654, 18640]</td>\n",
       "      <td>1</td>\n",
       "      <td>[9654]</td>\n",
       "    </tr>\n",
       "    <tr>\n",
       "      <th>1</th>\n",
       "      <td>1</td>\n",
       "      <td>[2567, 7181, 16334, 16964, 17359, 19300]</td>\n",
       "      <td>2</td>\n",
       "      <td>[16964, 17359]</td>\n",
       "    </tr>\n",
       "    <tr>\n",
       "      <th>2</th>\n",
       "      <td>2</td>\n",
       "      <td>[18516, 20297]</td>\n",
       "      <td>1</td>\n",
       "      <td>[18516]</td>\n",
       "    </tr>\n",
       "    <tr>\n",
       "      <th>3</th>\n",
       "      <td>3</td>\n",
       "      <td>[17942, 22073]</td>\n",
       "      <td>1</td>\n",
       "      <td>[17942]</td>\n",
       "    </tr>\n",
       "    <tr>\n",
       "      <th>4</th>\n",
       "      <td>4</td>\n",
       "      <td>[462, 6641, 9775, 13123, 18194, 18999, 19012]</td>\n",
       "      <td>2</td>\n",
       "      <td>[18194, 18194]</td>\n",
       "    </tr>\n",
       "    <tr>\n",
       "      <th>...</th>\n",
       "      <td>...</td>\n",
       "      <td>...</td>\n",
       "      <td>...</td>\n",
       "      <td>...</td>\n",
       "    </tr>\n",
       "    <tr>\n",
       "      <th>1584</th>\n",
       "      <td>1584</td>\n",
       "      <td>[6342, 10315, 15725, 15759, 17839, 18100]</td>\n",
       "      <td>2</td>\n",
       "      <td>[6342, 15759]</td>\n",
       "    </tr>\n",
       "    <tr>\n",
       "      <th>1585</th>\n",
       "      <td>1585</td>\n",
       "      <td>[171, 568, 658, 1150, 2831, 3085, 3349, 3981, ...</td>\n",
       "      <td>7</td>\n",
       "      <td>[3981, 5447, 22843, 9291, 11093, 20125, 3349]</td>\n",
       "    </tr>\n",
       "    <tr>\n",
       "      <th>1586</th>\n",
       "      <td>1586</td>\n",
       "      <td>[15483, 19023]</td>\n",
       "      <td>1</td>\n",
       "      <td>[19023]</td>\n",
       "    </tr>\n",
       "    <tr>\n",
       "      <th>1587</th>\n",
       "      <td>1587</td>\n",
       "      <td>[339, 13900, 15312, 24644]</td>\n",
       "      <td>1</td>\n",
       "      <td>[339]</td>\n",
       "    </tr>\n",
       "    <tr>\n",
       "      <th>1588</th>\n",
       "      <td>1588</td>\n",
       "      <td>[173, 3856, 9716, 10455, 24415]</td>\n",
       "      <td>1</td>\n",
       "      <td>[10455]</td>\n",
       "    </tr>\n",
       "  </tbody>\n",
       "</table>\n",
       "<p>1589 rows × 4 columns</p>\n",
       "</div>"
      ],
      "text/plain": [
       "      user_id                                            item_id  holdout  \\\n",
       "0           0                                      [9654, 18640]        1   \n",
       "1           1           [2567, 7181, 16334, 16964, 17359, 19300]        2   \n",
       "2           2                                     [18516, 20297]        1   \n",
       "3           3                                     [17942, 22073]        1   \n",
       "4           4      [462, 6641, 9775, 13123, 18194, 18999, 19012]        2   \n",
       "...       ...                                                ...      ...   \n",
       "1584     1584          [6342, 10315, 15725, 15759, 17839, 18100]        2   \n",
       "1585     1585  [171, 568, 658, 1150, 2831, 3085, 3349, 3981, ...        7   \n",
       "1586     1586                                     [15483, 19023]        1   \n",
       "1587     1587                         [339, 13900, 15312, 24644]        1   \n",
       "1588     1588                    [173, 3856, 9716, 10455, 24415]        1   \n",
       "\n",
       "                                             target  \n",
       "0                                            [9654]  \n",
       "1                                    [16964, 17359]  \n",
       "2                                           [18516]  \n",
       "3                                           [17942]  \n",
       "4                                    [18194, 18194]  \n",
       "...                                             ...  \n",
       "1584                                  [6342, 15759]  \n",
       "1585  [3981, 5447, 22843, 9291, 11093, 20125, 3349]  \n",
       "1586                                        [19023]  \n",
       "1587                                          [339]  \n",
       "1588                                        [10455]  \n",
       "\n",
       "[1589 rows x 4 columns]"
      ]
     },
     "execution_count": 34,
     "metadata": {},
     "output_type": "execute_result"
    }
   ],
   "source": [
    "fold1"
   ]
  },
  {
   "cell_type": "code",
   "execution_count": 42,
   "metadata": {},
   "outputs": [
    {
     "data": {
      "text/plain": [
       "4860"
      ]
     },
     "execution_count": 42,
     "metadata": {},
     "output_type": "execute_result"
    }
   ],
   "source": [
    "count = 0\n",
    "for i in [e for x in fold1.target for e in x]:\n",
    "    count += 1\n",
    "count"
   ]
  },
  {
   "cell_type": "code",
   "execution_count": 55,
   "metadata": {},
   "outputs": [],
   "source": [
    "def get_csr_matrix(df, row_col, item_col):\n",
    "    row_idx = []\n",
    "    item_idx = []\n",
    "\n",
    "    for r, l in zip(df[row_col], df[item_col]):\n",
    "        for e in l:\n",
    "            row_idx.append(r)\n",
    "            item_idx.append(e)\n",
    "            \n",
    "    print(len(row_idx))\n",
    "    print(len(item_idx))\n",
    "    print(len(np.ones(len(row_idx))))\n",
    "            \n",
    "    assert(len(row_idx) == len(item_idx)), \"Error, different lens\"\n",
    "    matrix = sps.csr_matrix((np.ones(len(row_idx)), (row_idx, item_idx)), shape=(row_size, col_size))\n",
    "    return matrix\n",
    "    \n",
    "def get_train_test_urm(folds, test):\n",
    "    #pd.concat(folds)\n",
    "    \n",
    "    test_urm = get_csr_matrix(test, \"user_id\", \"target\")\n",
    "    return test_urm"
   ]
  },
  {
   "cell_type": "code",
   "execution_count": 56,
   "metadata": {},
   "outputs": [
    {
     "name": "stdout",
     "output_type": "stream",
     "text": [
      "4860\n",
      "4860\n",
      "4860\n"
     ]
    },
    {
     "data": {
      "text/plain": [
       "4501"
      ]
     },
     "execution_count": 56,
     "metadata": {},
     "output_type": "execute_result"
    }
   ],
   "source": [
    "get_train_test_urm([fold2, fold3, fold4, fold5], fold1).nnz"
   ]
  },
  {
   "cell_type": "code",
   "execution_count": 59,
   "metadata": {},
   "outputs": [
    {
     "ename": "TypeError",
     "evalue": "'numpy.ndarray' object is not callable",
     "output_type": "error",
     "traceback": [
      "\u001b[0;31m---------------------------------------------------------------------------\u001b[0m",
      "\u001b[0;31mTypeError\u001b[0m                                 Traceback (most recent call last)",
      "\u001b[0;32m<ipython-input-59-eb8b85a11fd4>\u001b[0m in \u001b[0;36m<module>\u001b[0;34m\u001b[0m\n\u001b[0;32m----> 1\u001b[0;31m \u001b[0mfold1\u001b[0m\u001b[0;34m.\u001b[0m\u001b[0mholdout\u001b[0m\u001b[0;34m.\u001b[0m\u001b[0mvalues\u001b[0m\u001b[0;34m(\u001b[0m\u001b[0;34m)\u001b[0m\u001b[0;34m\u001b[0m\u001b[0;34m\u001b[0m\u001b[0m\n\u001b[0m",
      "\u001b[0;31mTypeError\u001b[0m: 'numpy.ndarray' object is not callable"
     ]
    }
   ],
   "source": []
  },
  {
   "cell_type": "code",
   "execution_count": null,
   "metadata": {},
   "outputs": [],
   "source": []
  }
 ],
 "metadata": {
  "kernelspec": {
   "display_name": "Python 3",
   "language": "python",
   "name": "python3"
  },
  "language_info": {
   "codemirror_mode": {
    "name": "ipython",
    "version": 3
   },
   "file_extension": ".py",
   "mimetype": "text/x-python",
   "name": "python",
   "nbconvert_exporter": "python",
   "pygments_lexer": "ipython3",
   "version": "3.7.9"
  }
 },
 "nbformat": 4,
 "nbformat_minor": 2
}
