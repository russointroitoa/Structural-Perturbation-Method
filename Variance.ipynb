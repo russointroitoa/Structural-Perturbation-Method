{
 "cells": [
  {
   "cell_type": "code",
   "execution_count": 10,
   "metadata": {},
   "outputs": [],
   "source": [
    "import numpy as np\n",
    "import pandas as pd\n",
    "import scipy.sparse as sps\n",
    "from sklearn.preprocessing import LabelEncoder\n",
    "from sklearn.model_selection import train_test_split\n",
    "from tqdm import tqdm\n",
    "\n",
    "import sys\n",
    "sys.path.append(\"/Users/alessiorussointroito/Documents/GitHub/Structural-Perturbation-Method\")\n",
    "\n",
    "#from SPM_fast import SPM\n",
    "from BiSPM import BiSPM\n",
    "\n",
    "import os\n",
    "os.environ[\"CC\"] = \"g++-10\"\n",
    "\n",
    "import similaripy as sim"
   ]
  },
  {
   "cell_type": "code",
   "execution_count": 11,
   "metadata": {},
   "outputs": [],
   "source": [
    "# Evaluation\n",
    "\n",
    "def precision(is_relevant, relevant_items):\n",
    "    # is_relevant = np.in1d(recommended_items, relevant_items, assume_unique=True)\n",
    "    precision_score = np.sum(is_relevant, dtype=np.float32) / len(is_relevant)\n",
    "    return precision_score\n",
    "\n",
    "\n",
    "def recall(is_relevant, relevant_items):\n",
    "    # is_relevant = np.in1d(recommended_items, relevant_items, assume_unique=True)\n",
    "    recall_score = np.sum(is_relevant, dtype=np.float32) / len(is_relevant)\n",
    "    return recall_score\n",
    "\n",
    "\n",
    "def MAP(is_relevant, relevant_items):\n",
    "    # Cumulative sum: precision at 1, at 2, at 3 ...\n",
    "    p_at_k = is_relevant * np.cumsum(is_relevant, dtype=np.float32) / (1 + np.arange(is_relevant.shape[0]))\n",
    "    map_score = np.sum(p_at_k) / np.min([len(relevant_items), len(is_relevant)])\n",
    "    return map_score"
   ]
  },
  {
   "cell_type": "code",
   "execution_count": 12,
   "metadata": {},
   "outputs": [],
   "source": [
    "n_svs = 100\n",
    "k = 10\n",
    "p = 0.3"
   ]
  },
  {
   "cell_type": "code",
   "execution_count": 13,
   "metadata": {},
   "outputs": [],
   "source": [
    "df = pd.read_csv(\n",
    "    \"/Users/alessiorussointroito/Downloads/Telegram Desktop/recommender-system-2020-challenge-polimi/data_train.csv\")\n",
    "\n",
    "le = LabelEncoder()\n",
    "df['new_col'] = le.fit_transform(df.col)\n",
    "\n",
    "row_size = len(df.row.unique())\n",
    "col_size = len(le.classes_)\n",
    "\n",
    "X_train, X_test, y_train, y_test = train_test_split(df.row, df.new_col, test_size=0.20, random_state=3)\n",
    "\n",
    "bip_adj = sps.csr_matrix((np.ones(X_train.shape[0]), (X_train, y_train)), shape=(row_size, col_size))\n",
    "\n",
    "test_indices = X_test.unique()\n",
    "test_indices = np.sort(test_indices)\n",
    "test = pd.DataFrame({'row': X_test, 'target': y_test})\n",
    "\n",
    "targets = test.groupby(test.row)['target'].apply(lambda x: list(x))"
   ]
  },
  {
   "cell_type": "code",
   "execution_count": 72,
   "metadata": {
    "collapsed": true
   },
   "outputs": [
    {
     "name": "stderr",
     "output_type": "stream",
     "text": [
      "Computing Perturbed B:   0%|          | 0/10 [00:19<?, ?it/s]\n"
     ]
    },
    {
     "ename": "KeyboardInterrupt",
     "evalue": "",
     "output_type": "error",
     "traceback": [
      "\u001b[0;31m---------------------------------------------------------------------------\u001b[0m",
      "\u001b[0;31mKeyboardInterrupt\u001b[0m                         Traceback (most recent call last)",
      "\u001b[0;32m<ipython-input-72-76b74b4cdc83>\u001b[0m in \u001b[0;36m<module>\u001b[0;34m\u001b[0m\n\u001b[1;32m      1\u001b[0m \u001b[0mbspm\u001b[0m \u001b[0;34m=\u001b[0m \u001b[0mBiSPM\u001b[0m\u001b[0;34m(\u001b[0m\u001b[0murm\u001b[0m\u001b[0;34m,\u001b[0m \u001b[0mtarget\u001b[0m\u001b[0;34m=\u001b[0m\u001b[0mtest_indices\u001b[0m\u001b[0;34m,\u001b[0m \u001b[0mn_sv\u001b[0m\u001b[0;34m=\u001b[0m\u001b[0mn_svs\u001b[0m\u001b[0;34m,\u001b[0m \u001b[0mp\u001b[0m\u001b[0;34m=\u001b[0m\u001b[0mp\u001b[0m\u001b[0;34m)\u001b[0m\u001b[0;34m\u001b[0m\u001b[0;34m\u001b[0m\u001b[0m\n\u001b[1;32m      2\u001b[0m \u001b[0;34m\u001b[0m\u001b[0m\n\u001b[0;32m----> 3\u001b[0;31m \u001b[0mrankings\u001b[0m \u001b[0;34m=\u001b[0m \u001b[0mbspm\u001b[0m\u001b[0;34m.\u001b[0m\u001b[0mk_runs\u001b[0m\u001b[0;34m(\u001b[0m\u001b[0mk\u001b[0m\u001b[0;34m=\u001b[0m\u001b[0mk\u001b[0m\u001b[0;34m)\u001b[0m\u001b[0;34m\u001b[0m\u001b[0;34m\u001b[0m\u001b[0m\n\u001b[0m",
      "\u001b[0;32m~/Documents/GitHub/Structural-Perturbation-Method/BiSPM.py\u001b[0m in \u001b[0;36mk_runs\u001b[0;34m(self, k, save)\u001b[0m\n\u001b[1;32m     99\u001b[0m             \u001b[0mself\u001b[0m\u001b[0;34m.\u001b[0m\u001b[0msplit_init\u001b[0m\u001b[0;34m(\u001b[0m\u001b[0misSingle\u001b[0m\u001b[0;34m=\u001b[0m\u001b[0;32mFalse\u001b[0m\u001b[0;34m)\u001b[0m\u001b[0;34m\u001b[0m\u001b[0;34m\u001b[0m\u001b[0m\n\u001b[1;32m    100\u001b[0m \u001b[0;34m\u001b[0m\u001b[0m\n\u001b[0;32m--> 101\u001b[0;31m             \u001b[0mres\u001b[0m \u001b[0;34m+=\u001b[0m \u001b[0mself\u001b[0m\u001b[0;34m.\u001b[0m\u001b[0mcompute_perturbed_matrix\u001b[0m\u001b[0;34m(\u001b[0m\u001b[0mself\u001b[0m\u001b[0;34m.\u001b[0m\u001b[0mB_r\u001b[0m\u001b[0;34m,\u001b[0m \u001b[0mself\u001b[0m\u001b[0;34m.\u001b[0m\u001b[0mdelta_B\u001b[0m\u001b[0;34m)\u001b[0m\u001b[0;34m\u001b[0m\u001b[0;34m\u001b[0m\u001b[0m\n\u001b[0m\u001b[1;32m    102\u001b[0m \u001b[0;34m\u001b[0m\u001b[0m\n\u001b[1;32m    103\u001b[0m             \u001b[0;31m# Reset delta_B\u001b[0m\u001b[0;34m\u001b[0m\u001b[0;34m\u001b[0m\u001b[0;34m\u001b[0m\u001b[0m\n",
      "\u001b[0;32m~/Documents/GitHub/Structural-Perturbation-Method/BiSPM.py\u001b[0m in \u001b[0;36mcompute_perturbed_matrix\u001b[0;34m(self, B_r, delta_B)\u001b[0m\n\u001b[1;32m     87\u001b[0m \u001b[0;34m\u001b[0m\u001b[0m\n\u001b[1;32m     88\u001b[0m         \u001b[0mself\u001b[0m\u001b[0;34m.\u001b[0m\u001b[0mpbar\u001b[0m\u001b[0;34m.\u001b[0m\u001b[0mset_description\u001b[0m\u001b[0;34m(\u001b[0m\u001b[0;34m\"Computing Perturbed B\"\u001b[0m\u001b[0;34m)\u001b[0m\u001b[0;34m\u001b[0m\u001b[0;34m\u001b[0m\u001b[0m\n\u001b[0;32m---> 89\u001b[0;31m         \u001b[0mperturbed_B\u001b[0m \u001b[0;34m=\u001b[0m \u001b[0mcompute_perturbed_B\u001b[0m\u001b[0;34m(\u001b[0m\u001b[0mself\u001b[0m\u001b[0;34m.\u001b[0m\u001b[0mn_sing_values\u001b[0m\u001b[0;34m,\u001b[0m \u001b[0mu\u001b[0m\u001b[0;34m,\u001b[0m \u001b[0ms\u001b[0m\u001b[0;34m,\u001b[0m \u001b[0mvt\u001b[0m\u001b[0;34m,\u001b[0m \u001b[0mdelta_svs\u001b[0m\u001b[0;34m,\u001b[0m \u001b[0mself\u001b[0m\u001b[0;34m.\u001b[0m\u001b[0mtarget_users\u001b[0m\u001b[0;34m)\u001b[0m\u001b[0;34m\u001b[0m\u001b[0;34m\u001b[0m\u001b[0m\n\u001b[0m\u001b[1;32m     90\u001b[0m \u001b[0;34m\u001b[0m\u001b[0m\n\u001b[1;32m     91\u001b[0m         \u001b[0;32mreturn\u001b[0m \u001b[0mperturbed_B\u001b[0m\u001b[0;34m\u001b[0m\u001b[0;34m\u001b[0m\u001b[0m\n",
      "\u001b[0;32mcompute_perturbed_A.pyx\u001b[0m in \u001b[0;36mcompute_perturbed_A.compute_perturbed_B\u001b[0;34m()\u001b[0m\n",
      "\u001b[0;32mcompute_perturbed_A.pyx\u001b[0m in \u001b[0;36mcompute_perturbed_A.compute_perturbed_B\u001b[0;34m()\u001b[0m\n",
      "\u001b[0;32m<__array_function__ internals>\u001b[0m in \u001b[0;36mtake\u001b[0;34m(*args, **kwargs)\u001b[0m\n",
      "\u001b[0;31mKeyboardInterrupt\u001b[0m: "
     ]
    }
   ],
   "source": [
    "bspm = BiSPM(urm, target=test_indices, n_sv=n_svs, p=p)\n",
    "\n",
    "rankings = bspm.k_runs(k=k)"
   ]
  },
  {
   "cell_type": "code",
   "execution_count": 71,
   "metadata": {},
   "outputs": [
    {
     "name": "stderr",
     "output_type": "stream",
     "text": [
      "100%|██████████| 5644/5644 [00:15<00:00, 364.09it/s]"
     ]
    },
    {
     "name": "stdout",
     "output_type": "stream",
     "text": [
      "SPM n_eigen = 100 , k = 10  \n",
      " Precision = 0.01879872430900057 \n",
      " Recall = 0.01879872430900057 \n",
      " MAP = 0.02405776068236307\n"
     ]
    },
    {
     "name": "stderr",
     "output_type": "stream",
     "text": [
      "\n"
     ]
    }
   ],
   "source": [
    "n_users = len(test_indices)\n",
    "\n",
    "cumulative_precision = 0.0\n",
    "cumulative_recall = 0.0\n",
    "cumulative_MAP = 0.0\n",
    "num_eval = 0\n",
    "\n",
    "at = 10\n",
    "\n",
    "for i, user_id in enumerate(tqdm(test_indices)):\n",
    "    relevant_items = targets[user_id]\n",
    "    #recommended_items = rankings[user_id].argsort()[::-1][:at]\n",
    "    recommended_items = rankings[i]\n",
    "\n",
    "    # Filter Seen:\n",
    "    # 1. Remove items already seen by the user\n",
    "    seen_indices = sps.find(bip_adj[user_id])[1]    # Con [1] Prendiamo solo le colonne d'interesse della matrice di adiacenza\n",
    "    mask = np.zeros(bip_adj.shape[1], dtype=bool)\n",
    "    mask[seen_indices] = True\n",
    "    \n",
    "    recommended_items[mask] = -np.inf\n",
    "\n",
    "    # Recommend\n",
    "    recommended_items = recommended_items.argsort()[::-1][:at]\n",
    "\n",
    "    num_eval += 1\n",
    "\n",
    "    is_relevant = np.in1d(recommended_items, relevant_items, assume_unique=True)\n",
    "\n",
    "    cumulative_precision += precision(is_relevant, relevant_items)\n",
    "    cumulative_recall += recall(is_relevant, relevant_items)\n",
    "    cumulative_MAP += MAP(is_relevant, relevant_items)\n",
    "\n",
    "cumulative_precision /= num_eval\n",
    "cumulative_recall /= num_eval\n",
    "cumulative_MAP /= num_eval\n",
    "\n",
    "print(f\"SPM n_eigen = {n_svs} , k = {k}  \\n Precision = {cumulative_precision} \\n Recall = {cumulative_recall} \\n MAP = {cumulative_MAP}\")"
   ]
  },
  {
   "cell_type": "code",
   "execution_count": null,
   "metadata": {},
   "outputs": [],
   "source": []
  },
  {
   "cell_type": "code",
   "execution_count": 73,
   "metadata": {},
   "outputs": [
    {
     "name": "stderr",
     "output_type": "stream",
     "text": [
      "Computing Perturbed B: 100%|██████████| 2/2 [00:09<00:00,  4.52s/it]\n"
     ]
    }
   ],
   "source": [
    "bspm = BiSPM(urm, target=test_indices, n_sv=2, p=p)\n",
    "rankings = bspm.k_runs(k=2)"
   ]
  },
  {
   "cell_type": "code",
   "execution_count": null,
   "metadata": {},
   "outputs": [],
   "source": []
  },
  {
   "cell_type": "code",
   "execution_count": 69,
   "metadata": {},
   "outputs": [],
   "source": [
    "urm = sim.normalization.bm25(bip_adj)"
   ]
  },
  {
   "cell_type": "markdown",
   "metadata": {},
   "source": [
    "# Variance"
   ]
  },
  {
   "cell_type": "code",
   "execution_count": 62,
   "metadata": {},
   "outputs": [
    {
     "data": {
      "text/plain": [
       "0.26483175906359896"
      ]
     },
     "execution_count": 62,
     "metadata": {},
     "output_type": "execute_result"
    }
   ],
   "source": [
    "n_components = 100\n",
    "from sklearn.decomposition import TruncatedSVD\n",
    "svd = TruncatedSVD(n_components=n_components, n_iter=7, random_state=42)\n",
    "svd.fit(bip_adj)\n",
    "svd.explained_variance_ratio_.sum() # Percentage of variance explained by each singular value"
   ]
  },
  {
   "cell_type": "markdown",
   "metadata": {},
   "source": [
    "## Variance of SVD (in my case)"
   ]
  },
  {
   "cell_type": "code",
   "execution_count": 24,
   "metadata": {},
   "outputs": [],
   "source": [
    "%load_ext Cython"
   ]
  },
  {
   "cell_type": "code",
   "execution_count": 50,
   "metadata": {},
   "outputs": [],
   "source": [
    "%%cython\n",
    "\n",
    "from math import sqrt\n",
    "from tqdm import tqdm\n",
    "\n",
    "import numpy as np\n",
    "cimport numpy as np\n",
    "\n",
    "import cython\n",
    "cimport cython\n",
    "\n",
    "ctypedef np.float64_t DTYPE_t\n",
    "\n",
    "@cython.boundscheck(False)\n",
    "@cython.wraparound(False)\n",
    "def outer_prod(int index,\n",
    "               DTYPE_t[:] u,\n",
    "               DTYPE_t s,\n",
    "               DTYPE_t[:] v,\n",
    "               DTYPE_t[:,:] out):\n",
    "    \n",
    "    cdef int n = u.shape[0]\n",
    "    cdef int m = v.shape[0]\n",
    "    cdef int i\n",
    "    cdef int j\n",
    "    cdef float tmp_u_i\n",
    "    \n",
    "    for i in range(n):\n",
    "        tmp_u_i = u[i] * s\n",
    "        for j in range(m):\n",
    "            out[i,j] = tmp_u_i * v[j]\n",
    "            \n",
    "    #return out"
   ]
  },
  {
   "cell_type": "code",
   "execution_count": null,
   "metadata": {},
   "outputs": [],
   "source": []
  },
  {
   "cell_type": "code",
   "execution_count": null,
   "metadata": {},
   "outputs": [],
   "source": []
  },
  {
   "cell_type": "code",
   "execution_count": 59,
   "metadata": {},
   "outputs": [],
   "source": [
    "k_components = 100\n",
    "u,s,vt = sps.linalg.svds(urm, k=k_components)"
   ]
  },
  {
   "cell_type": "code",
   "execution_count": 64,
   "metadata": {
    "scrolled": true
   },
   "outputs": [
    {
     "name": "stderr",
     "output_type": "stream",
     "text": [
      "100%|██████████| 100/100 [00:36<00:00,  2.77it/s]\n"
     ]
    },
    {
     "data": {
      "text/plain": [
       "0.06318189863678542"
      ]
     },
     "execution_count": 64,
     "metadata": {},
     "output_type": "execute_result"
    }
   ],
   "source": [
    "total_var = 0.0\n",
    "norm = sps.linalg.norm(urm)\n",
    "out = np.zeros((7947, 24896), dtype=np.float64)\n",
    "norm_i = np.zeros(k_components, dtype=np.float64)\n",
    "\n",
    "for i in tqdm(range(k_components)):\n",
    "    outer_prod(i, \n",
    "           u[:, i].astype(np.float64),\n",
    "           s[i].astype(np.float64),\n",
    "           vt[i].astype(np.float64),\n",
    "           out)\n",
    "    norm_i[i] = np.linalg.norm(out)\n",
    "    \n",
    "total_var = np.square(norm_i).sum() / norm**2\n",
    "total_var"
   ]
  },
  {
   "cell_type": "code",
   "execution_count": 16,
   "metadata": {},
   "outputs": [],
   "source": [
    "from sklearn.utils.extmath import randomized_svd\n",
    "\n",
    "s,v,d = randomized_svd(bip_adj, 2000, random_state=0)"
   ]
  },
  {
   "cell_type": "code",
   "execution_count": 17,
   "metadata": {},
   "outputs": [
    {
     "name": "stdout",
     "output_type": "stream",
     "text": [
      "(7947, 2000)\n",
      "(2000,)\n",
      "(2000, 24896)\n"
     ]
    }
   ],
   "source": [
    "print(s.shape)\n",
    "print(v.shape)\n",
    "print(d.shape)"
   ]
  },
  {
   "cell_type": "code",
   "execution_count": null,
   "metadata": {},
   "outputs": [],
   "source": []
  },
  {
   "cell_type": "code",
   "execution_count": 10,
   "metadata": {},
   "outputs": [],
   "source": [
    "u,s,vt = sps.linalg.svds(bip_adj, k=1000)"
   ]
  },
  {
   "cell_type": "code",
   "execution_count": 12,
   "metadata": {},
   "outputs": [
    {
     "name": "stdout",
     "output_type": "stream",
     "text": [
      "(7947, 1000)\n",
      "(1000,)\n",
      "(1000, 24896)\n"
     ]
    }
   ],
   "source": [
    "print(u.shape)\n",
    "print(s.shape)\n",
    "print(vt.shape)"
   ]
  },
  {
   "cell_type": "code",
   "execution_count": 7,
   "metadata": {},
   "outputs": [],
   "source": [
    "group = df.groupby(\"row\")['col'].apply(lambda x: list(x))"
   ]
  },
  {
   "cell_type": "code",
   "execution_count": 8,
   "metadata": {
    "collapsed": true
   },
   "outputs": [
    {
     "data": {
      "text/plain": [
       "row\n",
       "0                                          [10080, 19467]\n",
       "1                [2665, 7494, 17068, 17723, 18131, 20146]\n",
       "2                                          [19337, 21181]\n",
       "3                                          [18736, 23037]\n",
       "4          [477, 6927, 10204, 13707, 18999, 19838, 19851]\n",
       "                              ...                        \n",
       "7942                   [7830, 20122, 21662, 22275, 24405]\n",
       "7943                                  [7883, 7888, 11754]\n",
       "7944    [182, 259, 265, 385, 415, 426, 1026, 1224, 150...\n",
       "7945                            [817, 2476, 12319, 21384]\n",
       "7946                                        [8699, 19178]\n",
       "Name: col, Length: 7947, dtype: object"
      ]
     },
     "execution_count": 8,
     "metadata": {},
     "output_type": "execute_result"
    }
   ],
   "source": [
    "group"
   ]
  }
 ],
 "metadata": {
  "kernelspec": {
   "display_name": "Python 3",
   "language": "python",
   "name": "python3"
  },
  "language_info": {
   "codemirror_mode": {
    "name": "ipython",
    "version": 3
   },
   "file_extension": ".py",
   "mimetype": "text/x-python",
   "name": "python",
   "nbconvert_exporter": "python",
   "pygments_lexer": "ipython3",
   "version": "3.7.9"
  }
 },
 "nbformat": 4,
 "nbformat_minor": 2
}
